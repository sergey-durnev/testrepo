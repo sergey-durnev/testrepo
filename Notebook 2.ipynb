{
    "cells": [
        {
            "metadata": {},
            "cell_type": "code",
            "source": "\n// @hidden_cell\nimport com.ibm.ibmos2spark.CloudObjectStorage\nvar configurationName = \"os_613b31fd90684694894528af3f8b4d41_configs\"\n\nvar endpoint_613b31fd90684694894528af3f8b4d41 = \"https://s3.private.eu.cloud-object-storage.appdomain.cloud\"\nif (System.getenv(\"RUNTIME_ENV_LOCATION_TYPE\") == \"external\") {\n    endpoint_613b31fd90684694894528af3f8b4d41 = \"https://s3.eu.cloud-object-storage.appdomain.cloud\"\n}\n\ndef getCredentials(): scala.collection.mutable.HashMap[String, String] = {\n    return scala.collection.mutable.HashMap[String, String] (\n    \"endPoint\"-> endpoint_613b31fd90684694894528af3f8b4d41,\n    \"apiKey\"->\"7-tzWogAEI6fOOmnYsZaRtpNyYP-yCSk39VlI2Z7VfLi\",\n    \"serviceId\"->\"iam-ServiceId-cd30e02f-9a69-4156-830b-834ae27b7fe9\",\n    \"iamServiceEndpoint\" -> \"https://iam.cloud.ibm.com/oidc/token\")\n}\n\nvar cos = new CloudObjectStorage(sc, getCredentials(), configurationName, \"bluemix_cos\")\n\nimport org.apache.spark.sql.SparkSession\nval spark = SparkSession.\n    builder().\n    getOrCreate()\nval dfData1 = spark.\n    read.format(\"org.apache.spark.sql.execution.datasources.csv.CSVFileFormat\").\n    option(\"header\", \"true\").\n    option(\"inferSchema\", \"true\").\n    load(cos.url(\"learningproject-donotdelete-pr-6f5mdthuyfvlzj\", \"listings.csv\"))\ndfData1.show(5)\n",
            "execution_count": 1,
            "outputs": [
                {
                    "output_type": "stream",
                    "text": "+-----+--------------------+-------+---------+-------------------+--------------------+--------+---------+------------+-----+--------------+-----------------+-----------+-----------------+------------------------------+----------------+---------------------+--------------------+\n|   id|                name|host_id|host_name|neighbourhood_group|       neighbourhood|latitude|longitude|   room_type|price|minimum_nights|number_of_reviews|last_review|reviews_per_month|calculated_host_listings_count|availability_365|number_of_reviews_ltm|             license|\n+-----+--------------------+-------+---------+-------------------+--------------------+--------+---------+------------+-----+--------------+-----------------+-----------+-----------------+------------------------------+----------------+---------------------+--------------------+\n| 2818|Quiet Garden View...|   3159|   Daniel|               null|Oostelijk Havenge...|52.36435|  4.94358|Private room|   59|             3|              282| 2019-11-21|             2.83|                             1|              33|                    4|0363 5F3A 5684 67...|\n|20168|Studio with priva...|  59484|Alexander|               null|        Centrum-Oost|52.36407|  4.89393|Private room|  106|             1|              339| 2020-03-27|             3.57|                             2|               0|                    0|0363 CBB3 2C10 0C...|\n|27886|Romantic, stylish...|  97647|     Flip|               null|        Centrum-West|52.38761|  4.89188|Private room|  135|             2|              226| 2021-10-20|             2.13|                             1|              22|                    7|0363 974D 4986 74...|\n|28871|Comfortable doubl...| 124245|    Edwin|               null|        Centrum-West|52.36775|  4.89092|Private room|   75|             2|              364| 2021-10-15|             4.62|                             2|             267|                   28|0363 607B EA74 0B...|\n|29051|Comfortable singl...| 124245|    Edwin|               null|        Centrum-Oost|52.36584|  4.89111|Private room|   55|             2|              509| 2021-10-09|             5.52|                             2|             282|                   30|0363 607B EA74 0B...|\n+-----+--------------------+-------+---------+-------------------+--------------------+--------+---------+------------+-----+--------------+-----------------+-----------+-----------------+------------------------------+----------------+---------------------+--------------------+\nonly showing top 5 rows\n\n",
                    "name": "stdout"
                },
                {
                    "output_type": "display_data",
                    "data": {
                        "text/plain": "configurationName = os_613b31fd90684694894528af3f8b4d41_configs\nendpoint_613b31fd90684694894528af3f8b4d41 = https://s3.private.eu.cloud-object-storage.appdomain.cloud\ncos = com.ibm.ibmos2spark.CloudObjectStorage@41089334\nspark = org.apache.spark.sql.SparkSession@e63a2851\ndfData1 = [id: string, name: string ... 16 more fields]\n"
                    },
                    "metadata": {}
                },
                {
                    "output_type": "display_data",
                    "data": {
                        "text/plain": "getCredentials: ()scala.collection.mutable.HashMap[String,String]\n"
                    },
                    "metadata": {}
                },
                {
                    "output_type": "execute_result",
                    "execution_count": 1,
                    "data": {
                        "text/plain": "[id: string, name: string ... 16 more fields]"
                    },
                    "metadata": {}
                }
            ]
        },
        {
            "metadata": {},
            "cell_type": "code",
            "source": "",
            "execution_count": null,
            "outputs": []
        }
    ],
    "metadata": {
        "kernelspec": {
            "name": "scala",
            "display_name": "Scala 2.12 with Spark",
            "language": "scala"
        },
        "language_info": {
            "name": "scala",
            "version": "2.12.12",
            "file_extension": ".scala",
            "pygments_lexer": "scala",
            "mimetype": "text/x-scala",
            "codemirror_mode": "text/x-scala"
        }
    },
    "nbformat": 4,
    "nbformat_minor": 1
}